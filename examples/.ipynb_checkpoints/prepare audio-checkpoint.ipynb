{
 "cells": [
  {
   "cell_type": "markdown",
   "metadata": {},
   "source": [
    "# Prepare audio\n",
    "\n",
    "This notebook tells you how to prepare your audio when you use Kapre.\n",
    "\n",
    "https://github.com/keunwoochoi/kapre\n"
   ]
  },
  {
   "cell_type": "code",
   "execution_count": 1,
   "metadata": {},
   "outputs": [
    {
     "name": "stderr",
     "output_type": "stream",
     "text": [
      "Using TensorFlow backend.\n"
     ]
    },
    {
     "name": "stdout",
     "output_type": "stream",
     "text": [
      "2017/9/16\n",
      "Keras version: 2.0.6\n",
      "Keras backend: tensorflow: 1.0.0\n",
      "Keras image dim ordering: tf\n",
      "Kapre version: 0.1.2.1\n"
     ]
    }
   ],
   "source": [
    "import librosa\n",
    "\"\"\"\n",
    "# You might consider soundfile unless loading mp3 is your concern.\n",
    "import soundfile as sf\n",
    "# mac, window: pip install soundfile, \n",
    "# linux: pip install soundfile & sudo apt-get install libsndfile1\n",
    "\"\"\"\n",
    "import keras\n",
    "import kapre\n",
    "from keras.models import Sequential\n",
    "from kapre.time_frequency import Spectrogram\n",
    "import numpy as np\n",
    "\n",
    "from datetime import datetime\n",
    "now = datetime.now()\n",
    "\n",
    "def print_version_info():\n",
    "    print('%s/%s/%s' % (now.year, now.month, now.day))\n",
    "    print('Keras version: {}'.format(keras.__version__))\n",
    "    if keras.backend._BACKEND == 'tensorflow':\n",
    "        import tensorflow\n",
    "        print('Keras backend: {}: {}'.format(keras.backend._backend, tensorflow.__version__))\n",
    "    else:\n",
    "        import theano\n",
    "        print('Keras backend: {}: {}'.format(keras.backend._backend, theano.__version__))\n",
    "    print('Keras image dim ordering: {}'.format(keras.backend.image_dim_ordering()))\n",
    "    print('Kapre version: {}'.format(kapre.__version__))\n",
    "\n",
    "\n",
    "print_version_info()"
   ]
  },
  {
   "cell_type": "markdown",
   "metadata": {},
   "source": [
    "# Loading an mp3 file"
   ]
  },
  {
   "cell_type": "code",
   "execution_count": 2,
   "metadata": {},
   "outputs": [
    {
     "name": "stdout",
     "output_type": "stream",
     "text": [
      "(453888,)\n",
      "44100\n"
     ]
    }
   ],
   "source": [
    "src, sr = librosa.load('../kapre/srcs/bensound-cute.mp3', sr=None, mono=True)\n",
    "print(src.shape)\n",
    "print(sr)"
   ]
  },
  {
   "cell_type": "markdown",
   "metadata": {},
   "source": [
    "# Trim it make it a 2d.\n",
    "\n",
    "If your file is mono, librosa.load returns a 1D array. Kapre always expects 2d array, so make it 2d."
   ]
  },
  {
   "cell_type": "code",
   "execution_count": 3,
   "metadata": {},
   "outputs": [
    {
     "name": "stdout",
     "output_type": "stream",
     "text": [
      "(1, 44100)\n"
     ]
    }
   ],
   "source": [
    "len_second = 1.0 # 1 second\n",
    "src = src[:int(sr*len_second)]\n",
    "src = src[np.newaxis, :]\n",
    "input_shape = src.shape\n",
    "print(input_shape)"
   ]
  },
  {
   "cell_type": "markdown",
   "metadata": {},
   "source": [
    "# Let's assume we have 16 of this \n",
    "\n",
    "to make it more like a proper dataset. You should have many files indeed."
   ]
  },
  {
   "cell_type": "code",
   "execution_count": 4,
   "metadata": {},
   "outputs": [
    {
     "name": "stdout",
     "output_type": "stream",
     "text": [
      "(16, 1, 44100)\n"
     ]
    }
   ],
   "source": [
    "x = np.array([src] * 16)\n",
    "print(x.shape)"
   ]
  },
  {
   "cell_type": "markdown",
   "metadata": {},
   "source": [
    "# Now get a keras model using kapre\n",
    "\n",
    "A simple model with 10-class and single-label classification."
   ]
  },
  {
   "cell_type": "code",
   "execution_count": 5,
   "metadata": {},
   "outputs": [
    {
     "name": "stdout",
     "output_type": "stream",
     "text": [
      "________________________________________________________________________________\n",
      "Layer (type)              Output Shape              Param #     \n",
      "================================================================================\n",
      "static_stft (Spectrogram) (None, 257, 173, 1)       263168      \n",
      "________________________________________________________________________________\n",
      "conv1 (Conv2D)            (None, 255, 171, 32)      320         \n",
      "________________________________________________________________________________\n",
      "max_pooling2d_1 (MaxPooli (None, 10, 10, 32)        0           \n",
      "________________________________________________________________________________\n",
      "conv2 (Conv2D)            (None, 1, 1, 32)          102432      \n",
      "________________________________________________________________________________\n",
      "flatten_1 (Flatten)       (None, 32)                0           \n",
      "________________________________________________________________________________\n",
      "dense_1 (Dense)           (None, 10)                330         \n",
      "================================================================================\n",
      "Total params: 366,250\n",
      "Trainable params: 103,082\n",
      "Non-trainable params: 263,168\n",
      "________________________________________________________________________________\n"
     ]
    }
   ],
   "source": [
    "model = Sequential()\n",
    "model.add(Spectrogram(n_dft=512, n_hop=256, input_shape=input_shape, \n",
    "          return_decibel_spectrogram=True, power_spectrogram=2.0, \n",
    "          trainable_kernel=False, name='static_stft'))\n",
    "model.add(keras.layers.Convolution2D(32, (3, 3), name='conv1', activation='relu'))\n",
    "model.add(keras.layers.MaxPooling2D((25, 17)))\n",
    "model.add(keras.layers.Convolution2D(32, (10, 10), name='conv2', activation='relu'))\n",
    "model.add(keras.layers.Flatten())\n",
    "model.add(keras.layers.Dense(10, activation='softmax'))\n",
    "model.summary(line_length=80, positions=[.33, .65, .8, 1.])"
   ]
  },
  {
   "cell_type": "markdown",
   "metadata": {},
   "source": [
    "# Training\n",
    "\n",
    "With real labels you'll train the model. I don't do it here."
   ]
  },
  {
   "cell_type": "code",
   "execution_count": 6,
   "metadata": {
    "collapsed": true
   },
   "outputs": [],
   "source": [
    "# model.fit()"
   ]
  },
  {
   "cell_type": "markdown",
   "metadata": {},
   "source": [
    "# Prediction\n",
    "\n",
    "In this notebook, it's not really trained to predict"
   ]
  },
  {
   "cell_type": "code",
   "execution_count": 7,
   "metadata": {},
   "outputs": [
    {
     "name": "stdout",
     "output_type": "stream",
     "text": [
      "[6 6 6 6 6 6 6 6 6 6 6 6 6 6 6 6]\n"
     ]
    }
   ],
   "source": [
    "y = model.predict(x)\n",
    "print(np.argmax(y, axis=1))"
   ]
  },
  {
   "cell_type": "code",
   "execution_count": null,
   "metadata": {
    "collapsed": true
   },
   "outputs": [],
   "source": []
  }
 ],
 "metadata": {
  "anaconda-cloud": {},
  "kernelspec": {
   "display_name": "Python [conda env:rldsp]",
   "language": "python",
   "name": "conda-env-rldsp-py"
  },
  "language_info": {
   "codemirror_mode": {
    "name": "ipython",
    "version": 3
   },
   "file_extension": ".py",
   "mimetype": "text/x-python",
   "name": "python",
   "nbconvert_exporter": "python",
   "pygments_lexer": "ipython3",
   "version": "3.6.2"
  }
 },
 "nbformat": 4,
 "nbformat_minor": 1
}
